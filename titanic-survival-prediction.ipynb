{
 "cells": [
  {
   "cell_type": "markdown",
   "id": "fb624622",
   "metadata": {
    "papermill": {
     "duration": 0.010131,
     "end_time": "2023-08-03T06:38:52.731138",
     "exception": false,
     "start_time": "2023-08-03T06:38:52.721007",
     "status": "completed"
    },
    "tags": []
   },
   "source": [
    " # Predicting the Survival of passengers onboard the Titanic using Logistics Regression\n",
    " \n",
    "\n",
    "#### Introduction:\n",
    "        The problem of predicting passenger survival on the Titanic is a classic challenge in the field of machine learning. In this project, we address this problem using a logistic regression approach. \n",
    "        The objective is to build a model that accurately predicts whether a passenger survived the Titanic disaster based on various features such as age, sex, class, fare, and cabin information. \n",
    "        This problem holds significance as it helps us understand the factors that contributed to survival and provides insights into the historical event. \n",
    "        Our model reveal an accuracy of 76%, an F1 score of 80% for survival class, and 72% for non-survival class, demonstrating the effectiveness of our approach.\n",
    "\n",
    "#### Problem Definition and Algorithm:\n",
    "    2.1 Task Definition:\n",
    "        The task involves predicting the survival status (survived or not) of passengers on the Titanic based on features like age, sex, class, fare, and cabin information. The problem is interesting as it offers insights into historical data and has real-world implications.\n",
    "    2.2 Algorithm Definition: Logistics Regression\n",
    "        We employ logistic regression as our predictive model. Logistic regression is a widely used statistical method for binary classification tasks. It is particularly well-suited for predicting outcomes where the dependent variable is categorical and has two possible classes, such as whether a passenger survived or not in our Titanic survival prediction problem.\n",
    "        Mathematically, the logistic regression model can be expressed as follows:\n",
    "        p(y=1 | x) = 1 / (1 + e^-(β₀ + β₁x₁ + β₂x₂ + ... + βₖxₖ))\n",
    "        Where:\n",
    "        p(y=1 | x) is the probability that the outcome y is class 1 given the input features x.\n",
    "        e is the base of the natural logarithm.\n",
    "        β₀, β₁, β₂, ..., βₖ are the coefficients associated with the features x₁, x₂, ..., xₖ.\n",
    "        \n",
    "##### Example:\n",
    "        Consider a simplified example where we predict passenger survival based on only two features: age and fare. The logistic regression model estimates the probability of survival based on the logistic function. For a given set of coefficients (β₀, β₁, β₂), the model calculates the probability of survival as a function of age (x₁) and fare (x₂).\n",
    "        For instance, if the logistic function predicts p(y=1 | x) = 0.75 for a particular passenger,  it means there is a 75% chance that the passenger survived.\n",
    "\n",
    "##### Advantages of Logistic Regression:\n",
    "        1. Interpretability: Logistic regression provides interpretable coefficients that indicate the impact of each feature on the outcome probability.\n",
    "        2. Simplicity: Logistic regression is relatively simple to implement and computationally efficient.\n",
    "        3. Probabilistic Interpretation: The output of logistic regression can be directly interpreted as a probability.\n",
    "        In our Titanic survival prediction problem, we use logistic regression to model the relationship between passenger features (age, sex, class, fare, and cabin information) and the probability of survival. By learning the coefficients from the training data, the model can predict whether a passenger survived or not based on their feature values.\n",
    "        \n",
    "#### Experimental Evaluation:\n",
    "    3.1 Methodology:\n",
    "        We evaluate our method using a train-test split approach. Our experiment aims to test the hypothesis that our logistic regression model performs well in predicting survival status. \n",
    "        Train-Test Split:\n",
    "        Train-test split is used to evaluate the performance of a model. It involves splitting your dataset into two parts: a training set and a test (or validation) set. The training set is used to train the model, while the test set is used to evaluate how well the model generalizes to new, unseen data. This helps you assess the model's performance on data it has never seen before and helps to detect overfitting.\n",
    "        Standard Scaler:\n",
    "        The Standard Scaler is a preprocessing technique used to standardize (or normalize) the features of a dataset. It transforms the features so that they have a mean of 0 and a standard deviation of 1. This ensures that the features are on a similar scale, which can help improve the performance \n",
    "        Label Encoder:\n",
    "        Label Encoding is a preprocessing technique used to convert categorical data into numerical values. In Logistics Regression algorithm, numerical data is required for training. The Label Encoder assigns a unique integer value to each category in the categorical variable. \n",
    "        \n",
    "  ##### Evaluation Metrics:\n",
    "        Evaluation metrics are used to measure the performance of a machine learning model. Different metrics are used for different types of problems, such as classification or regression.\n",
    "\n",
    "  ##### Classification Metrics:\n",
    "        Accuracy: The ratio of correctly predicted instances to the total instances. \n",
    "        Accuracy = (TP + TN) / (TP + TN + FP + FN)\n",
    "        Precision: The ratio of correctly predicted positive observations to the total predicted positives. Measures how many of the predicted positive cases were actually positive.\n",
    "        Precision = TP / (TP + FP)\n",
    "        Recall: The ratio of correctly predicted positive observations to the all observations in the actual class. Measures how many of the actual positive cases were predicted correctly.\n",
    "        Recall = TP / (TP + FN)\n",
    "        F1-Score: The harmonic mean of precision and recall. It provides a balance between precision and recall.\n",
    "        F1-Score = 2 * (Precision * Recall) / (Precision + Recall)\n",
    "        Confusion Matrix: A matrix that shows the true positive, true negative, false positive, and false negative\n",
    "    3.2 Results:\n",
    "        Quantitative results indicate an accuracy of 76%, an F1 score of 80% for the survival class, and 72% for the non-survival class. We present graphical data representation, illustrating the differences in performance. Statistical analysis confirms the significance of the results.\n",
    "\n",
    "#### Conclusion:\n",
    "    Our study demonstrates the viability of using logistic regression for predicting Titanic survival. We achieve notable accuracy and F1 scores, contributing valuable insights into passenger survival patterns.\n",
    "\n",
    "#### Bibliography:\n",
    "    www.kaggle.com\n",
    "    www.cs.utexas.edu University of Texas at Austin\n",
    "    www.developers.google.com\n",
    "    www.chat.openai.com"
   ]
  },
  {
   "cell_type": "markdown",
   "id": "496135fe",
   "metadata": {
    "papermill": {
     "duration": 0.009358,
     "end_time": "2023-08-03T06:38:52.750469",
     "exception": false,
     "start_time": "2023-08-03T06:38:52.741111",
     "status": "completed"
    },
    "tags": []
   },
   "source": [
    "### Following is the code:"
   ]
  },
  {
   "cell_type": "code",
   "execution_count": 1,
   "id": "5fee6d14",
   "metadata": {
    "execution": {
     "iopub.execute_input": "2023-08-03T06:38:52.773499Z",
     "iopub.status.busy": "2023-08-03T06:38:52.772558Z",
     "iopub.status.idle": "2023-08-03T06:38:54.423731Z",
     "shell.execute_reply": "2023-08-03T06:38:54.422539Z"
    },
    "papermill": {
     "duration": 1.665771,
     "end_time": "2023-08-03T06:38:54.426637",
     "exception": false,
     "start_time": "2023-08-03T06:38:52.760866",
     "status": "completed"
    },
    "tags": []
   },
   "outputs": [
    {
     "name": "stderr",
     "output_type": "stream",
     "text": [
      "/opt/conda/lib/python3.10/site-packages/scipy/__init__.py:146: UserWarning: A NumPy version >=1.16.5 and <1.23.0 is required for this version of SciPy (detected version 1.23.5\n",
      "  warnings.warn(f\"A NumPy version >={np_minversion} and <{np_maxversion}\"\n"
     ]
    },
    {
     "name": "stdout",
     "output_type": "stream",
     "text": [
      "/kaggle/input/survival-dataset/Survival Dataset.csv\n"
     ]
    }
   ],
   "source": [
    "#Importing necessary libraries and functions\n",
    "import numpy as np # linear algebra\n",
    "import pandas as pd # data processing\n",
    "import seaborn as sns #graph\n",
    "import matplotlib.pyplot as plt #plotting\n",
    "%matplotlib inline \n",
    "import warnings #ignoring warnings\n",
    "warnings.filterwarnings(\"ignore\")\n",
    "import os\n"
   ]
  },
  {
   "cell_type": "markdown",
   "id": "500ba238",
   "metadata": {
    "papermill": {
     "duration": 0.010522,
     "end_time": "2023-08-03T06:38:54.447803",
     "exception": false,
     "start_time": "2023-08-03T06:38:54.437281",
     "status": "completed"
    },
    "tags": []
   },
   "source": [
    "The dataset I am using is Survival Dataset.csv. Read the file and the head is as follows:"
   ]
  },
  {
   "cell_type": "code",
   "execution_count": 2,
   "id": "c2e306d7",
   "metadata": {
    "execution": {
     "iopub.execute_input": "2023-08-03T06:38:54.471183Z",
     "iopub.status.busy": "2023-08-03T06:38:54.470293Z",
     "iopub.status.idle": "2023-08-03T06:38:54.518220Z",
     "shell.execute_reply": "2023-08-03T06:38:54.516877Z"
    },
    "papermill": {
     "duration": 0.062532,
     "end_time": "2023-08-03T06:38:54.520870",
     "exception": false,
     "start_time": "2023-08-03T06:38:54.458338",
     "status": "completed"
    },
    "tags": []
   },
   "outputs": [
    {
     "data": {
      "text/html": [
       "<div>\n",
       "<style scoped>\n",
       "    .dataframe tbody tr th:only-of-type {\n",
       "        vertical-align: middle;\n",
       "    }\n",
       "\n",
       "    .dataframe tbody tr th {\n",
       "        vertical-align: top;\n",
       "    }\n",
       "\n",
       "    .dataframe thead th {\n",
       "        text-align: right;\n",
       "    }\n",
       "</style>\n",
       "<table border=\"1\" class=\"dataframe\">\n",
       "  <thead>\n",
       "    <tr style=\"text-align: right;\">\n",
       "      <th></th>\n",
       "      <th>PassengerId</th>\n",
       "      <th>Survived</th>\n",
       "      <th>Pclass</th>\n",
       "      <th>Name</th>\n",
       "      <th>Sex</th>\n",
       "      <th>Age</th>\n",
       "      <th>SibSp</th>\n",
       "      <th>Parch</th>\n",
       "      <th>Ticket</th>\n",
       "      <th>Fare</th>\n",
       "      <th>Cabin</th>\n",
       "      <th>Embarked</th>\n",
       "    </tr>\n",
       "  </thead>\n",
       "  <tbody>\n",
       "    <tr>\n",
       "      <th>0</th>\n",
       "      <td>1</td>\n",
       "      <td>0</td>\n",
       "      <td>3</td>\n",
       "      <td>Braund, Mr. Owen Harris</td>\n",
       "      <td>male</td>\n",
       "      <td>22.0</td>\n",
       "      <td>1</td>\n",
       "      <td>0</td>\n",
       "      <td>A/5 21171</td>\n",
       "      <td>7.2500</td>\n",
       "      <td>NaN</td>\n",
       "      <td>S</td>\n",
       "    </tr>\n",
       "    <tr>\n",
       "      <th>1</th>\n",
       "      <td>2</td>\n",
       "      <td>1</td>\n",
       "      <td>1</td>\n",
       "      <td>Cumings, Mrs. John Bradley (Florence Briggs Th...</td>\n",
       "      <td>female</td>\n",
       "      <td>38.0</td>\n",
       "      <td>1</td>\n",
       "      <td>0</td>\n",
       "      <td>PC 17599</td>\n",
       "      <td>71.2833</td>\n",
       "      <td>C85</td>\n",
       "      <td>C</td>\n",
       "    </tr>\n",
       "    <tr>\n",
       "      <th>2</th>\n",
       "      <td>3</td>\n",
       "      <td>1</td>\n",
       "      <td>3</td>\n",
       "      <td>Heikkinen, Miss. Laina</td>\n",
       "      <td>female</td>\n",
       "      <td>26.0</td>\n",
       "      <td>0</td>\n",
       "      <td>0</td>\n",
       "      <td>STON/O2. 3101282</td>\n",
       "      <td>7.9250</td>\n",
       "      <td>NaN</td>\n",
       "      <td>S</td>\n",
       "    </tr>\n",
       "    <tr>\n",
       "      <th>3</th>\n",
       "      <td>4</td>\n",
       "      <td>1</td>\n",
       "      <td>1</td>\n",
       "      <td>Futrelle, Mrs. Jacques Heath (Lily May Peel)</td>\n",
       "      <td>female</td>\n",
       "      <td>35.0</td>\n",
       "      <td>1</td>\n",
       "      <td>0</td>\n",
       "      <td>113803</td>\n",
       "      <td>53.1000</td>\n",
       "      <td>C123</td>\n",
       "      <td>S</td>\n",
       "    </tr>\n",
       "    <tr>\n",
       "      <th>4</th>\n",
       "      <td>5</td>\n",
       "      <td>0</td>\n",
       "      <td>3</td>\n",
       "      <td>Allen, Mr. William Henry</td>\n",
       "      <td>male</td>\n",
       "      <td>35.0</td>\n",
       "      <td>0</td>\n",
       "      <td>0</td>\n",
       "      <td>373450</td>\n",
       "      <td>8.0500</td>\n",
       "      <td>NaN</td>\n",
       "      <td>S</td>\n",
       "    </tr>\n",
       "  </tbody>\n",
       "</table>\n",
       "</div>"
      ],
      "text/plain": [
       "   PassengerId  Survived  Pclass  \\\n",
       "0            1         0       3   \n",
       "1            2         1       1   \n",
       "2            3         1       3   \n",
       "3            4         1       1   \n",
       "4            5         0       3   \n",
       "\n",
       "                                                Name     Sex   Age  SibSp  \\\n",
       "0                            Braund, Mr. Owen Harris    male  22.0      1   \n",
       "1  Cumings, Mrs. John Bradley (Florence Briggs Th...  female  38.0      1   \n",
       "2                             Heikkinen, Miss. Laina  female  26.0      0   \n",
       "3       Futrelle, Mrs. Jacques Heath (Lily May Peel)  female  35.0      1   \n",
       "4                           Allen, Mr. William Henry    male  35.0      0   \n",
       "\n",
       "   Parch            Ticket     Fare Cabin Embarked  \n",
       "0      0         A/5 21171   7.2500   NaN        S  \n",
       "1      0          PC 17599  71.2833   C85        C  \n",
       "2      0  STON/O2. 3101282   7.9250   NaN        S  \n",
       "3      0            113803  53.1000  C123        S  \n",
       "4      0            373450   8.0500   NaN        S  "
      ]
     },
     "execution_count": 2,
     "metadata": {},
     "output_type": "execute_result"
    }
   ],
   "source": [
    "df = pd.read_csv('/kaggle/input/survival-dataset/Survival Dataset.csv')\n",
    "df.head()"
   ]
  },
  {
   "cell_type": "markdown",
   "id": "8d8a1a82",
   "metadata": {
    "papermill": {
     "duration": 0.010558,
     "end_time": "2023-08-03T06:38:54.543958",
     "exception": false,
     "start_time": "2023-08-03T06:38:54.533400",
     "status": "completed"
    },
    "tags": []
   },
   "source": [
    "#### The Dataset has the following columns:\n",
    "    1. PassengerId: ID of the passenger\n",
    "    2. Survived: Did the passenger survive or not?\n",
    "    3. Pclass: Class of the passenger\n",
    "    4. Name: Name of the passenger\n",
    "    5. Sex: Gender of the passenger\n",
    "    6. Age: Age of the passenger\n",
    "    7. Ticket: Ticket of the passenger\n",
    "    8. Fare: Fare paid by the passenger\n",
    "    9. Cabin: Cabin name of passenger\n",
    "    10.Embarked: Passenger embarked from which port"
   ]
  },
  {
   "cell_type": "code",
   "execution_count": 3,
   "id": "32a9c5ff",
   "metadata": {
    "execution": {
     "iopub.execute_input": "2023-08-03T06:38:54.567569Z",
     "iopub.status.busy": "2023-08-03T06:38:54.567151Z",
     "iopub.status.idle": "2023-08-03T06:38:54.608833Z",
     "shell.execute_reply": "2023-08-03T06:38:54.607561Z"
    },
    "papermill": {
     "duration": 0.05675,
     "end_time": "2023-08-03T06:38:54.611708",
     "exception": false,
     "start_time": "2023-08-03T06:38:54.554958",
     "status": "completed"
    },
    "tags": []
   },
   "outputs": [
    {
     "data": {
      "text/html": [
       "<div>\n",
       "<style scoped>\n",
       "    .dataframe tbody tr th:only-of-type {\n",
       "        vertical-align: middle;\n",
       "    }\n",
       "\n",
       "    .dataframe tbody tr th {\n",
       "        vertical-align: top;\n",
       "    }\n",
       "\n",
       "    .dataframe thead th {\n",
       "        text-align: right;\n",
       "    }\n",
       "</style>\n",
       "<table border=\"1\" class=\"dataframe\">\n",
       "  <thead>\n",
       "    <tr style=\"text-align: right;\">\n",
       "      <th></th>\n",
       "      <th>PassengerId</th>\n",
       "      <th>Survived</th>\n",
       "      <th>Pclass</th>\n",
       "      <th>Age</th>\n",
       "      <th>SibSp</th>\n",
       "      <th>Parch</th>\n",
       "      <th>Fare</th>\n",
       "    </tr>\n",
       "  </thead>\n",
       "  <tbody>\n",
       "    <tr>\n",
       "      <th>count</th>\n",
       "      <td>1309.000000</td>\n",
       "      <td>1309.000000</td>\n",
       "      <td>1309.000000</td>\n",
       "      <td>1046.000000</td>\n",
       "      <td>1309.000000</td>\n",
       "      <td>1309.000000</td>\n",
       "      <td>1308.000000</td>\n",
       "    </tr>\n",
       "    <tr>\n",
       "      <th>mean</th>\n",
       "      <td>655.000000</td>\n",
       "      <td>0.381971</td>\n",
       "      <td>2.294882</td>\n",
       "      <td>29.881138</td>\n",
       "      <td>0.498854</td>\n",
       "      <td>0.385027</td>\n",
       "      <td>33.295479</td>\n",
       "    </tr>\n",
       "    <tr>\n",
       "      <th>std</th>\n",
       "      <td>378.020061</td>\n",
       "      <td>0.486055</td>\n",
       "      <td>0.837836</td>\n",
       "      <td>14.413493</td>\n",
       "      <td>1.041658</td>\n",
       "      <td>0.865560</td>\n",
       "      <td>51.758668</td>\n",
       "    </tr>\n",
       "    <tr>\n",
       "      <th>min</th>\n",
       "      <td>1.000000</td>\n",
       "      <td>0.000000</td>\n",
       "      <td>1.000000</td>\n",
       "      <td>0.170000</td>\n",
       "      <td>0.000000</td>\n",
       "      <td>0.000000</td>\n",
       "      <td>0.000000</td>\n",
       "    </tr>\n",
       "    <tr>\n",
       "      <th>25%</th>\n",
       "      <td>328.000000</td>\n",
       "      <td>0.000000</td>\n",
       "      <td>2.000000</td>\n",
       "      <td>21.000000</td>\n",
       "      <td>0.000000</td>\n",
       "      <td>0.000000</td>\n",
       "      <td>7.895800</td>\n",
       "    </tr>\n",
       "    <tr>\n",
       "      <th>50%</th>\n",
       "      <td>655.000000</td>\n",
       "      <td>0.000000</td>\n",
       "      <td>3.000000</td>\n",
       "      <td>28.000000</td>\n",
       "      <td>0.000000</td>\n",
       "      <td>0.000000</td>\n",
       "      <td>14.454200</td>\n",
       "    </tr>\n",
       "    <tr>\n",
       "      <th>75%</th>\n",
       "      <td>982.000000</td>\n",
       "      <td>1.000000</td>\n",
       "      <td>3.000000</td>\n",
       "      <td>39.000000</td>\n",
       "      <td>1.000000</td>\n",
       "      <td>0.000000</td>\n",
       "      <td>31.275000</td>\n",
       "    </tr>\n",
       "    <tr>\n",
       "      <th>max</th>\n",
       "      <td>1309.000000</td>\n",
       "      <td>1.000000</td>\n",
       "      <td>3.000000</td>\n",
       "      <td>80.000000</td>\n",
       "      <td>8.000000</td>\n",
       "      <td>9.000000</td>\n",
       "      <td>512.329200</td>\n",
       "    </tr>\n",
       "  </tbody>\n",
       "</table>\n",
       "</div>"
      ],
      "text/plain": [
       "       PassengerId     Survived       Pclass          Age        SibSp  \\\n",
       "count  1309.000000  1309.000000  1309.000000  1046.000000  1309.000000   \n",
       "mean    655.000000     0.381971     2.294882    29.881138     0.498854   \n",
       "std     378.020061     0.486055     0.837836    14.413493     1.041658   \n",
       "min       1.000000     0.000000     1.000000     0.170000     0.000000   \n",
       "25%     328.000000     0.000000     2.000000    21.000000     0.000000   \n",
       "50%     655.000000     0.000000     3.000000    28.000000     0.000000   \n",
       "75%     982.000000     1.000000     3.000000    39.000000     1.000000   \n",
       "max    1309.000000     1.000000     3.000000    80.000000     8.000000   \n",
       "\n",
       "             Parch         Fare  \n",
       "count  1309.000000  1308.000000  \n",
       "mean      0.385027    33.295479  \n",
       "std       0.865560    51.758668  \n",
       "min       0.000000     0.000000  \n",
       "25%       0.000000     7.895800  \n",
       "50%       0.000000    14.454200  \n",
       "75%       0.000000    31.275000  \n",
       "max       9.000000   512.329200  "
      ]
     },
     "execution_count": 3,
     "metadata": {},
     "output_type": "execute_result"
    }
   ],
   "source": [
    "df.describe()"
   ]
  },
  {
   "cell_type": "markdown",
   "id": "2547e6d6",
   "metadata": {
    "papermill": {
     "duration": 0.010839,
     "end_time": "2023-08-03T06:38:54.634040",
     "exception": false,
     "start_time": "2023-08-03T06:38:54.623201",
     "status": "completed"
    },
    "tags": []
   },
   "source": [
    "Analyzing with the describe function we are able to see that there exist outliers in the Fare column, as 75% is at 31.2 "
   ]
  },
  {
   "cell_type": "code",
   "execution_count": 4,
   "id": "e56a518f",
   "metadata": {
    "execution": {
     "iopub.execute_input": "2023-08-03T06:38:54.658145Z",
     "iopub.status.busy": "2023-08-03T06:38:54.657757Z",
     "iopub.status.idle": "2023-08-03T06:38:54.676613Z",
     "shell.execute_reply": "2023-08-03T06:38:54.675710Z"
    },
    "papermill": {
     "duration": 0.03359,
     "end_time": "2023-08-03T06:38:54.678874",
     "exception": false,
     "start_time": "2023-08-03T06:38:54.645284",
     "status": "completed"
    },
    "tags": []
   },
   "outputs": [
    {
     "data": {
      "text/plain": [
       "Pclass         0\n",
       "Sex            0\n",
       "Age          261\n",
       "SibSp          0\n",
       "Parch          0\n",
       "Fare           0\n",
       "Cabin       1004\n",
       "Embarked       2\n",
       "dtype: int64"
      ]
     },
     "execution_count": 4,
     "metadata": {},
     "output_type": "execute_result"
    }
   ],
   "source": [
    "#Outlier in Fare, removing outliers above 150\n",
    "df = df[df['Fare']<=150]\n",
    "\n",
    "#Checking any empty fields in the data\n",
    "features = ['Pclass', 'Sex', 'Age','SibSp','Parch','Fare','Cabin','Embarked']\n",
    "df[features].isnull().sum()"
   ]
  },
  {
   "cell_type": "markdown",
   "id": "47506d07",
   "metadata": {
    "papermill": {
     "duration": 0.010752,
     "end_time": "2023-08-03T06:38:54.700808",
     "exception": false,
     "start_time": "2023-08-03T06:38:54.690056",
     "status": "completed"
    },
    "tags": []
   },
   "source": [
    "Age will be an important factor in predicting survival, therefore instead of dropping, we can replace the empty fields with the median value of Age"
   ]
  },
  {
   "cell_type": "code",
   "execution_count": 5,
   "id": "74b794ac",
   "metadata": {
    "execution": {
     "iopub.execute_input": "2023-08-03T06:38:54.725235Z",
     "iopub.status.busy": "2023-08-03T06:38:54.723889Z",
     "iopub.status.idle": "2023-08-03T06:38:54.736203Z",
     "shell.execute_reply": "2023-08-03T06:38:54.735362Z"
    },
    "papermill": {
     "duration": 0.027216,
     "end_time": "2023-08-03T06:38:54.738785",
     "exception": false,
     "start_time": "2023-08-03T06:38:54.711569",
     "status": "completed"
    },
    "tags": []
   },
   "outputs": [
    {
     "name": "stdout",
     "output_type": "stream",
     "text": [
      "28.0\n"
     ]
    },
    {
     "data": {
      "text/plain": [
       "0"
      ]
     },
     "execution_count": 5,
     "metadata": {},
     "output_type": "execute_result"
    }
   ],
   "source": [
    "median_value = df['Age'].median()\n",
    "df['Age'].fillna(median_value,inplace=True)\n",
    "print(median_value)\n",
    "df['Age'].isnull().sum()"
   ]
  },
  {
   "cell_type": "markdown",
   "id": "3841019a",
   "metadata": {
    "papermill": {
     "duration": 0.011036,
     "end_time": "2023-08-03T06:38:54.761291",
     "exception": false,
     "start_time": "2023-08-03T06:38:54.750255",
     "status": "completed"
    },
    "tags": []
   },
   "source": [
    "Cabin has the largest number of empty fields, therefore we can replace them with the cabin of the majority, using mode()"
   ]
  },
  {
   "cell_type": "code",
   "execution_count": 6,
   "id": "d60acb60",
   "metadata": {
    "execution": {
     "iopub.execute_input": "2023-08-03T06:38:54.785773Z",
     "iopub.status.busy": "2023-08-03T06:38:54.785283Z",
     "iopub.status.idle": "2023-08-03T06:38:54.800566Z",
     "shell.execute_reply": "2023-08-03T06:38:54.798937Z"
    },
    "papermill": {
     "duration": 0.030715,
     "end_time": "2023-08-03T06:38:54.803138",
     "exception": false,
     "start_time": "2023-08-03T06:38:54.772423",
     "status": "completed"
    },
    "tags": []
   },
   "outputs": [
    {
     "name": "stdout",
     "output_type": "stream",
     "text": [
      "G6\n"
     ]
    },
    {
     "data": {
      "text/plain": [
       "0"
      ]
     },
     "execution_count": 6,
     "metadata": {},
     "output_type": "execute_result"
    }
   ],
   "source": [
    "mode_value = df['Cabin'].mode().values[0]\n",
    "df['Cabin'].fillna(mode_value,inplace=True)\n",
    "print(mode_value)\n",
    "df['Cabin'].isnull().sum()\n"
   ]
  },
  {
   "cell_type": "code",
   "execution_count": 7,
   "id": "f4d71f07",
   "metadata": {
    "execution": {
     "iopub.execute_input": "2023-08-03T06:38:54.827696Z",
     "iopub.status.busy": "2023-08-03T06:38:54.827192Z",
     "iopub.status.idle": "2023-08-03T06:38:54.850236Z",
     "shell.execute_reply": "2023-08-03T06:38:54.848974Z"
    },
    "papermill": {
     "duration": 0.038316,
     "end_time": "2023-08-03T06:38:54.852662",
     "exception": false,
     "start_time": "2023-08-03T06:38:54.814346",
     "status": "completed"
    },
    "tags": []
   },
   "outputs": [
    {
     "data": {
      "text/html": [
       "<div>\n",
       "<style scoped>\n",
       "    .dataframe tbody tr th:only-of-type {\n",
       "        vertical-align: middle;\n",
       "    }\n",
       "\n",
       "    .dataframe tbody tr th {\n",
       "        vertical-align: top;\n",
       "    }\n",
       "\n",
       "    .dataframe thead th {\n",
       "        text-align: right;\n",
       "    }\n",
       "</style>\n",
       "<table border=\"1\" class=\"dataframe\">\n",
       "  <thead>\n",
       "    <tr style=\"text-align: right;\">\n",
       "      <th></th>\n",
       "      <th>PassengerId</th>\n",
       "      <th>Survived</th>\n",
       "      <th>Pclass</th>\n",
       "      <th>Name</th>\n",
       "      <th>Sex</th>\n",
       "      <th>Age</th>\n",
       "      <th>SibSp</th>\n",
       "      <th>Parch</th>\n",
       "      <th>Ticket</th>\n",
       "      <th>Fare</th>\n",
       "      <th>Cabin</th>\n",
       "      <th>Embarked</th>\n",
       "      <th>Cabin_Deck</th>\n",
       "    </tr>\n",
       "  </thead>\n",
       "  <tbody>\n",
       "    <tr>\n",
       "      <th>0</th>\n",
       "      <td>1</td>\n",
       "      <td>0</td>\n",
       "      <td>3</td>\n",
       "      <td>Braund, Mr. Owen Harris</td>\n",
       "      <td>male</td>\n",
       "      <td>22.0</td>\n",
       "      <td>1</td>\n",
       "      <td>0</td>\n",
       "      <td>A/5 21171</td>\n",
       "      <td>7.2500</td>\n",
       "      <td>G6</td>\n",
       "      <td>S</td>\n",
       "      <td>G</td>\n",
       "    </tr>\n",
       "    <tr>\n",
       "      <th>1</th>\n",
       "      <td>2</td>\n",
       "      <td>1</td>\n",
       "      <td>1</td>\n",
       "      <td>Cumings, Mrs. John Bradley (Florence Briggs Th...</td>\n",
       "      <td>female</td>\n",
       "      <td>38.0</td>\n",
       "      <td>1</td>\n",
       "      <td>0</td>\n",
       "      <td>PC 17599</td>\n",
       "      <td>71.2833</td>\n",
       "      <td>C85</td>\n",
       "      <td>C</td>\n",
       "      <td>C</td>\n",
       "    </tr>\n",
       "    <tr>\n",
       "      <th>2</th>\n",
       "      <td>3</td>\n",
       "      <td>1</td>\n",
       "      <td>3</td>\n",
       "      <td>Heikkinen, Miss. Laina</td>\n",
       "      <td>female</td>\n",
       "      <td>26.0</td>\n",
       "      <td>0</td>\n",
       "      <td>0</td>\n",
       "      <td>STON/O2. 3101282</td>\n",
       "      <td>7.9250</td>\n",
       "      <td>G6</td>\n",
       "      <td>S</td>\n",
       "      <td>G</td>\n",
       "    </tr>\n",
       "    <tr>\n",
       "      <th>3</th>\n",
       "      <td>4</td>\n",
       "      <td>1</td>\n",
       "      <td>1</td>\n",
       "      <td>Futrelle, Mrs. Jacques Heath (Lily May Peel)</td>\n",
       "      <td>female</td>\n",
       "      <td>35.0</td>\n",
       "      <td>1</td>\n",
       "      <td>0</td>\n",
       "      <td>113803</td>\n",
       "      <td>53.1000</td>\n",
       "      <td>C123</td>\n",
       "      <td>S</td>\n",
       "      <td>C</td>\n",
       "    </tr>\n",
       "    <tr>\n",
       "      <th>4</th>\n",
       "      <td>5</td>\n",
       "      <td>0</td>\n",
       "      <td>3</td>\n",
       "      <td>Allen, Mr. William Henry</td>\n",
       "      <td>male</td>\n",
       "      <td>35.0</td>\n",
       "      <td>0</td>\n",
       "      <td>0</td>\n",
       "      <td>373450</td>\n",
       "      <td>8.0500</td>\n",
       "      <td>G6</td>\n",
       "      <td>S</td>\n",
       "      <td>G</td>\n",
       "    </tr>\n",
       "  </tbody>\n",
       "</table>\n",
       "</div>"
      ],
      "text/plain": [
       "   PassengerId  Survived  Pclass  \\\n",
       "0            1         0       3   \n",
       "1            2         1       1   \n",
       "2            3         1       3   \n",
       "3            4         1       1   \n",
       "4            5         0       3   \n",
       "\n",
       "                                                Name     Sex   Age  SibSp  \\\n",
       "0                            Braund, Mr. Owen Harris    male  22.0      1   \n",
       "1  Cumings, Mrs. John Bradley (Florence Briggs Th...  female  38.0      1   \n",
       "2                             Heikkinen, Miss. Laina  female  26.0      0   \n",
       "3       Futrelle, Mrs. Jacques Heath (Lily May Peel)  female  35.0      1   \n",
       "4                           Allen, Mr. William Henry    male  35.0      0   \n",
       "\n",
       "   Parch            Ticket     Fare Cabin Embarked Cabin_Deck  \n",
       "0      0         A/5 21171   7.2500    G6        S          G  \n",
       "1      0          PC 17599  71.2833   C85        C          C  \n",
       "2      0  STON/O2. 3101282   7.9250    G6        S          G  \n",
       "3      0            113803  53.1000  C123        S          C  \n",
       "4      0            373450   8.0500    G6        S          G  "
      ]
     },
     "execution_count": 7,
     "metadata": {},
     "output_type": "execute_result"
    }
   ],
   "source": [
    "#For easier prediction we are grouping all cabins by the Deck Name\n",
    "df['Cabin_Deck']= df['Cabin'].str[0]\n",
    "df.head()"
   ]
  },
  {
   "cell_type": "markdown",
   "id": "59ca4c4a",
   "metadata": {
    "papermill": {
     "duration": 0.0113,
     "end_time": "2023-08-03T06:38:54.875959",
     "exception": false,
     "start_time": "2023-08-03T06:38:54.864659",
     "status": "completed"
    },
    "tags": []
   },
   "source": [
    "Embarked column has two empty fields, so we are replacing them with the majority place of Embarked, with mode()"
   ]
  },
  {
   "cell_type": "code",
   "execution_count": 8,
   "id": "fba0b06c",
   "metadata": {
    "execution": {
     "iopub.execute_input": "2023-08-03T06:38:54.901235Z",
     "iopub.status.busy": "2023-08-03T06:38:54.900751Z",
     "iopub.status.idle": "2023-08-03T06:38:54.911570Z",
     "shell.execute_reply": "2023-08-03T06:38:54.909914Z"
    },
    "papermill": {
     "duration": 0.02659,
     "end_time": "2023-08-03T06:38:54.914055",
     "exception": false,
     "start_time": "2023-08-03T06:38:54.887465",
     "status": "completed"
    },
    "tags": []
   },
   "outputs": [
    {
     "name": "stdout",
     "output_type": "stream",
     "text": [
      "S\n"
     ]
    }
   ],
   "source": [
    "embarked_value = df['Embarked'].mode().values[0]\n",
    "df['Embarked'].fillna(embarked_value,inplace=True)\n",
    "print(embarked_value)\n",
    "df['Embarked'].isnull().sum()\n",
    "\n",
    "updated_features =  ['Pclass', 'Sex', 'Age','SibSp','Parch','Fare','Cabin_Deck','Embarked']\n"
   ]
  },
  {
   "cell_type": "markdown",
   "id": "5d5a0185",
   "metadata": {
    "papermill": {
     "duration": 0.011356,
     "end_time": "2023-08-03T06:38:54.937135",
     "exception": false,
     "start_time": "2023-08-03T06:38:54.925779",
     "status": "completed"
    },
    "tags": []
   },
   "source": [
    "### Plotting the categorical features to see the relationship between different parmeters and survial rate"
   ]
  },
  {
   "cell_type": "code",
   "execution_count": 9,
   "id": "0aed3eaa",
   "metadata": {
    "execution": {
     "iopub.execute_input": "2023-08-03T06:38:54.962697Z",
     "iopub.status.busy": "2023-08-03T06:38:54.962176Z",
     "iopub.status.idle": "2023-08-03T06:38:57.557240Z",
     "shell.execute_reply": "2023-08-03T06:38:57.555975Z"
    },
    "papermill": {
     "duration": 2.610855,
     "end_time": "2023-08-03T06:38:57.559859",
     "exception": false,
     "start_time": "2023-08-03T06:38:54.949004",
     "status": "completed"
    },
    "tags": []
   },
   "outputs": [
    {
     "data": {
      "image/png": "[encoded data removed]",
      "text/plain": [
       "<Figure size 700x500 with 1 Axes>"
      ]
     },
     "metadata": {},
     "output_type": "display_data"
    },
    {
     "data": {
      "image/png": "[encoded data removed]",
      "text/plain": [
       "<Figure size 700x500 with 1 Axes>"
      ]
     },
     "metadata": {},
     "output_type": "display_data"
    },
    {
     "data": {
      "image/png": "[encoded data removed]",
      "text/plain": [
       "<Figure size 700x500 with 1 Axes>"
      ]
     },
     "metadata": {},
     "output_type": "display_data"
    },
    {
     "data": {
      "image/png": "[encoded data removed]",
      "text/plain": [
       "<Figure size 700x500 with 1 Axes>"
      ]
     },
     "metadata": {},
     "output_type": "display_data"
    },
    {
     "data": {
      "image/png": "[encoded data removed]",
      "text/plain": [
       "<Figure size 700x500 with 1 Axes>"
      ]
     },
     "metadata": {},
     "output_type": "display_data"
    },
    {
     "data": {
      "image/png": "[encoded data removed]",
      "text/plain": [
       "<Figure size 700x500 with 1 Axes>"
      ]
     },
     "metadata": {},
     "output_type": "display_data"
    }
   ],
   "source": [
    "categorical_features = ['Pclass', 'Sex','SibSp','Parch','Cabin_Deck','Embarked']\n",
    "for features in categorical_features:\n",
    "    plt.figure(figsize=(7,5))\n",
    "    #no need of error bar for these three features as they are quite precise\n",
    "    if features == 'Pclass' or features == 'Sex' or features == 'Embarked':\n",
    "        sns.barplot(x =features, y = 'Survived',data = df,palette= 'husl',errorbar =None)  \n",
    "    else:    \n",
    "        sns.barplot(x =features, y = 'Survived',data = df,palette= 'husl')\n",
    "    plt.title(f\"Survival Rate by {features}\")\n",
    "    plt.xlabel(features)\n",
    "    plt.ylabel('Survival Rate')\n",
    "    plt.show()"
   ]
  },
  {
   "cell_type": "markdown",
   "id": "1f09dc94",
   "metadata": {
    "papermill": {
     "duration": 0.014881,
     "end_time": "2023-08-03T06:38:57.589821",
     "exception": false,
     "start_time": "2023-08-03T06:38:57.574940",
     "status": "completed"
    },
    "tags": []
   },
   "source": [
    "#### 1. Survival Rate by Passenger Class\n",
    "        We can clearly see that Class 1 passengers have the highest probability of surviving, then the Class 2 and lastly the Class 3 passengers.\n",
    "        \n",
    "#### 2. Survival Rate by Gender\n",
    "        It is quite prominent that being a female gives you 50% more chance of surviving the Titanic. It is the most important factor in prediction.\n",
    "\n",
    "#### 3. Survial Rate by SibSp or Number of Siblings Onboard\n",
    "        We see that more the number of siblings, less are the chances of survival, but having only one siblings gives you the highest probability, than the passengers with no siblings.\n",
    "   \n",
    "#### 4. Survival Rate by Parch or Number of parents or children on board\n",
    "        It shows that survial rate is highest if passengers had 1 to 3 family members on board.\n",
    "  \n",
    "#### 5. Survival Rate by Cabin Deck\n",
    "        The graph shows the Cabin Deck does not directly influence the chances of survival, except for Cabin Decks G and T.\n",
    "        \n",
    "#### 6. Survival Rate by Embarked City\n",
    "        The plot shows people embarked at Cherbourg had the highest rate of survival followed by those at Southampton."
   ]
  },
  {
   "cell_type": "code",
   "execution_count": 10,
   "id": "b9f6d25e",
   "metadata": {
    "execution": {
     "iopub.execute_input": "2023-08-03T06:38:57.622459Z",
     "iopub.status.busy": "2023-08-03T06:38:57.621610Z",
     "iopub.status.idle": "2023-08-03T06:38:58.183845Z",
     "shell.execute_reply": "2023-08-03T06:38:58.182991Z"
    },
    "papermill": {
     "duration": 0.581326,
     "end_time": "2023-08-03T06:38:58.186128",
     "exception": false,
     "start_time": "2023-08-03T06:38:57.604802",
     "status": "completed"
    },
    "tags": []
   },
   "outputs": [
    {
     "data": {
      "image/png": "[encoded data removed]",
      "text/plain": [
       "<Figure size 700x500 with 1 Axes>"
      ]
     },
     "metadata": {},
     "output_type": "display_data"
    }
   ],
   "source": [
    "#plotting Numeric data \n",
    "plt.figure(figsize=(7,5))\n",
    "sns.histplot(data=df, x='Age', hue='Survived', kde=True, palette='husl',alpha= 0.5)\n",
    "plt.title('Age Distribution by Survival')\n",
    "plt.xlabel('Age')\n",
    "plt.ylabel('Count')\n",
    "plt.show()"
   ]
  },
  {
   "cell_type": "markdown",
   "id": "082aa486",
   "metadata": {
    "papermill": {
     "duration": 0.016433,
     "end_time": "2023-08-03T06:38:58.219836",
     "exception": false,
     "start_time": "2023-08-03T06:38:58.203403",
     "status": "completed"
    },
    "tags": []
   },
   "source": [
    "#### From the Age Distribution of Survived people, we can see that Babies had the maximum chances of survival in the complete Age group, followed by people in their 50s."
   ]
  },
  {
   "cell_type": "code",
   "execution_count": 11,
   "id": "e391ab3e",
   "metadata": {
    "execution": {
     "iopub.execute_input": "2023-08-03T06:38:58.254283Z",
     "iopub.status.busy": "2023-08-03T06:38:58.253552Z",
     "iopub.status.idle": "2023-08-03T06:38:58.793730Z",
     "shell.execute_reply": "2023-08-03T06:38:58.792133Z"
    },
    "papermill": {
     "duration": 0.560631,
     "end_time": "2023-08-03T06:38:58.796747",
     "exception": false,
     "start_time": "2023-08-03T06:38:58.236116",
     "status": "completed"
    },
    "tags": []
   },
   "outputs": [
    {
     "data": {
      "image/png": "[encoded data removed]",
      "text/plain": [
       "<Figure size 700x500 with 1 Axes>"
      ]
     },
     "metadata": {},
     "output_type": "display_data"
    }
   ],
   "source": [
    "plt.figure(figsize=(7,5))\n",
    "sns.histplot(data=df, x='Fare', hue='Survived', kde=True, palette='husl',alpha= 0.5)\n",
    "plt.title('Fare Distribution by Survival')\n",
    "plt.xlabel('Fare')\n",
    "plt.ylabel('Count')\n",
    "plt.show()"
   ]
  },
  {
   "cell_type": "markdown",
   "id": "7843a75d",
   "metadata": {
    "papermill": {
     "duration": 0.015991,
     "end_time": "2023-08-03T06:38:58.829243",
     "exception": false,
     "start_time": "2023-08-03T06:38:58.813252",
     "status": "completed"
    },
    "tags": []
   },
   "source": [
    "#### From Fare distribution for Survived passengers, we can infer that people who had paid about 60 bucks and above had the maximum chaances of survival as they were given a priority. Also corelates with th Class number of the people."
   ]
  },
  {
   "cell_type": "markdown",
   "id": "0709e92e",
   "metadata": {
    "papermill": {
     "duration": 0.016483,
     "end_time": "2023-08-03T06:38:58.862448",
     "exception": false,
     "start_time": "2023-08-03T06:38:58.845965",
     "status": "completed"
    },
    "tags": []
   },
   "source": [
    "### Now we will Encode the categorical alpha-numeric features into numeric values so that the Logistics Regression will be able to predict with them."
   ]
  },
  {
   "cell_type": "code",
   "execution_count": 12,
   "id": "c15fe4db",
   "metadata": {
    "execution": {
     "iopub.execute_input": "2023-08-03T06:38:58.896984Z",
     "iopub.status.busy": "2023-08-03T06:38:58.896585Z",
     "iopub.status.idle": "2023-08-03T06:38:59.090749Z",
     "shell.execute_reply": "2023-08-03T06:38:59.089234Z"
    },
    "papermill": {
     "duration": 0.214824,
     "end_time": "2023-08-03T06:38:59.093609",
     "exception": false,
     "start_time": "2023-08-03T06:38:58.878785",
     "status": "completed"
    },
    "tags": []
   },
   "outputs": [
    {
     "data": {
      "text/html": [
       "<div>\n",
       "<style scoped>\n",
       "    .dataframe tbody tr th:only-of-type {\n",
       "        vertical-align: middle;\n",
       "    }\n",
       "\n",
       "    .dataframe tbody tr th {\n",
       "        vertical-align: top;\n",
       "    }\n",
       "\n",
       "    .dataframe thead th {\n",
       "        text-align: right;\n",
       "    }\n",
       "</style>\n",
       "<table border=\"1\" class=\"dataframe\">\n",
       "  <thead>\n",
       "    <tr style=\"text-align: right;\">\n",
       "      <th></th>\n",
       "      <th>Pclass</th>\n",
       "      <th>Sex</th>\n",
       "      <th>Age</th>\n",
       "      <th>SibSp</th>\n",
       "      <th>Fare</th>\n",
       "      <th>Cabin_Deck</th>\n",
       "    </tr>\n",
       "  </thead>\n",
       "  <tbody>\n",
       "    <tr>\n",
       "      <th>0</th>\n",
       "      <td>3</td>\n",
       "      <td>1</td>\n",
       "      <td>22.0</td>\n",
       "      <td>1</td>\n",
       "      <td>7.2500</td>\n",
       "      <td>6</td>\n",
       "    </tr>\n",
       "    <tr>\n",
       "      <th>1</th>\n",
       "      <td>1</td>\n",
       "      <td>0</td>\n",
       "      <td>38.0</td>\n",
       "      <td>1</td>\n",
       "      <td>71.2833</td>\n",
       "      <td>2</td>\n",
       "    </tr>\n",
       "    <tr>\n",
       "      <th>2</th>\n",
       "      <td>3</td>\n",
       "      <td>0</td>\n",
       "      <td>26.0</td>\n",
       "      <td>0</td>\n",
       "      <td>7.9250</td>\n",
       "      <td>6</td>\n",
       "    </tr>\n",
       "    <tr>\n",
       "      <th>3</th>\n",
       "      <td>1</td>\n",
       "      <td>0</td>\n",
       "      <td>35.0</td>\n",
       "      <td>1</td>\n",
       "      <td>53.1000</td>\n",
       "      <td>2</td>\n",
       "    </tr>\n",
       "    <tr>\n",
       "      <th>4</th>\n",
       "      <td>3</td>\n",
       "      <td>1</td>\n",
       "      <td>35.0</td>\n",
       "      <td>0</td>\n",
       "      <td>8.0500</td>\n",
       "      <td>6</td>\n",
       "    </tr>\n",
       "    <tr>\n",
       "      <th>...</th>\n",
       "      <td>...</td>\n",
       "      <td>...</td>\n",
       "      <td>...</td>\n",
       "      <td>...</td>\n",
       "      <td>...</td>\n",
       "      <td>...</td>\n",
       "    </tr>\n",
       "    <tr>\n",
       "      <th>1304</th>\n",
       "      <td>3</td>\n",
       "      <td>1</td>\n",
       "      <td>28.0</td>\n",
       "      <td>0</td>\n",
       "      <td>8.0500</td>\n",
       "      <td>6</td>\n",
       "    </tr>\n",
       "    <tr>\n",
       "      <th>1305</th>\n",
       "      <td>1</td>\n",
       "      <td>0</td>\n",
       "      <td>39.0</td>\n",
       "      <td>0</td>\n",
       "      <td>108.9000</td>\n",
       "      <td>2</td>\n",
       "    </tr>\n",
       "    <tr>\n",
       "      <th>1306</th>\n",
       "      <td>3</td>\n",
       "      <td>1</td>\n",
       "      <td>38.5</td>\n",
       "      <td>0</td>\n",
       "      <td>7.2500</td>\n",
       "      <td>6</td>\n",
       "    </tr>\n",
       "    <tr>\n",
       "      <th>1307</th>\n",
       "      <td>3</td>\n",
       "      <td>1</td>\n",
       "      <td>28.0</td>\n",
       "      <td>0</td>\n",
       "      <td>8.0500</td>\n",
       "      <td>6</td>\n",
       "    </tr>\n",
       "    <tr>\n",
       "      <th>1308</th>\n",
       "      <td>3</td>\n",
       "      <td>1</td>\n",
       "      <td>28.0</td>\n",
       "      <td>1</td>\n",
       "      <td>22.3583</td>\n",
       "      <td>6</td>\n",
       "    </tr>\n",
       "  </tbody>\n",
       "</table>\n",
       "<p>1257 rows × 6 columns</p>\n",
       "</div>"
      ],
      "text/plain": [
       "      Pclass  Sex   Age  SibSp      Fare  Cabin_Deck\n",
       "0          3    1  22.0      1    7.2500           6\n",
       "1          1    0  38.0      1   71.2833           2\n",
       "2          3    0  26.0      0    7.9250           6\n",
       "3          1    0  35.0      1   53.1000           2\n",
       "4          3    1  35.0      0    8.0500           6\n",
       "...      ...  ...   ...    ...       ...         ...\n",
       "1304       3    1  28.0      0    8.0500           6\n",
       "1305       1    0  39.0      0  108.9000           2\n",
       "1306       3    1  38.5      0    7.2500           6\n",
       "1307       3    1  28.0      0    8.0500           6\n",
       "1308       3    1  28.0      1   22.3583           6\n",
       "\n",
       "[1257 rows x 6 columns]"
      ]
     },
     "execution_count": 12,
     "metadata": {},
     "output_type": "execute_result"
    }
   ],
   "source": [
    "from sklearn.preprocessing import LabelEncoder\n",
    "f = ['Pclass', 'Sex', 'Age','SibSp','Fare', 'Cabin_Deck']\n",
    "X = df[f]\n",
    "y = df['Survived']\n",
    "# Not considering Parch and Embarked as does not affect accuracy \n",
    "# Use LabelEncoder to convert 'Cabin_Deck' to numerical for modeling\n",
    "label_encoder_cabin = LabelEncoder()\n",
    "X['Cabin_Deck'] = label_encoder_cabin.fit_transform(X['Cabin_Deck'])\n",
    "\n",
    "# Use LabelEncoder to convert 'Sex' to numerical (0 for male, 1 for female) for modeling\n",
    "label_encoder_sex = LabelEncoder()\n",
    "X['Sex'] = label_encoder_sex.fit_transform(X['Sex'])\n",
    "\n",
    "X"
   ]
  },
  {
   "cell_type": "markdown",
   "id": "c438bca9",
   "metadata": {
    "papermill": {
     "duration": 0.015494,
     "end_time": "2023-08-03T06:38:59.125590",
     "exception": false,
     "start_time": "2023-08-03T06:38:59.110096",
     "status": "completed"
    },
    "tags": []
   },
   "source": [
    "### Now we will use Train_Test_Split to split the data into Training and Test sets."
   ]
  },
  {
   "cell_type": "code",
   "execution_count": 13,
   "id": "1534d117",
   "metadata": {
    "execution": {
     "iopub.execute_input": "2023-08-03T06:38:59.160400Z",
     "iopub.status.busy": "2023-08-03T06:38:59.159266Z",
     "iopub.status.idle": "2023-08-03T06:38:59.281212Z",
     "shell.execute_reply": "2023-08-03T06:38:59.280184Z"
    },
    "papermill": {
     "duration": 0.142117,
     "end_time": "2023-08-03T06:38:59.283886",
     "exception": false,
     "start_time": "2023-08-03T06:38:59.141769",
     "status": "completed"
    },
    "tags": []
   },
   "outputs": [],
   "source": [
    "#now train test split\n",
    "from sklearn.model_selection import train_test_split\n",
    "X_train, X_test, y_train, y_test = train_test_split(X,y,test_size=0.2,random_state=42)"
   ]
  },
  {
   "cell_type": "code",
   "execution_count": 14,
   "id": "ddbf17b4",
   "metadata": {
    "execution": {
     "iopub.execute_input": "2023-08-03T06:38:59.319804Z",
     "iopub.status.busy": "2023-08-03T06:38:59.319376Z",
     "iopub.status.idle": "2023-08-03T06:38:59.337988Z",
     "shell.execute_reply": "2023-08-03T06:38:59.337122Z"
    },
    "papermill": {
     "duration": 0.041441,
     "end_time": "2023-08-03T06:38:59.341508",
     "exception": false,
     "start_time": "2023-08-03T06:38:59.300067",
     "status": "completed"
    },
    "tags": []
   },
   "outputs": [
    {
     "data": {
      "text/html": [
       "<div>\n",
       "<style scoped>\n",
       "    .dataframe tbody tr th:only-of-type {\n",
       "        vertical-align: middle;\n",
       "    }\n",
       "\n",
       "    .dataframe tbody tr th {\n",
       "        vertical-align: top;\n",
       "    }\n",
       "\n",
       "    .dataframe thead th {\n",
       "        text-align: right;\n",
       "    }\n",
       "</style>\n",
       "<table border=\"1\" class=\"dataframe\">\n",
       "  <thead>\n",
       "    <tr style=\"text-align: right;\">\n",
       "      <th></th>\n",
       "      <th>Pclass</th>\n",
       "      <th>Sex</th>\n",
       "      <th>Age</th>\n",
       "      <th>SibSp</th>\n",
       "      <th>Fare</th>\n",
       "      <th>Cabin_Deck</th>\n",
       "    </tr>\n",
       "  </thead>\n",
       "  <tbody>\n",
       "    <tr>\n",
       "      <th>450</th>\n",
       "      <td>2</td>\n",
       "      <td>1</td>\n",
       "      <td>36.0</td>\n",
       "      <td>1</td>\n",
       "      <td>27.7500</td>\n",
       "      <td>6</td>\n",
       "    </tr>\n",
       "    <tr>\n",
       "      <th>103</th>\n",
       "      <td>3</td>\n",
       "      <td>1</td>\n",
       "      <td>33.0</td>\n",
       "      <td>0</td>\n",
       "      <td>8.6542</td>\n",
       "      <td>6</td>\n",
       "    </tr>\n",
       "    <tr>\n",
       "      <th>52</th>\n",
       "      <td>1</td>\n",
       "      <td>0</td>\n",
       "      <td>49.0</td>\n",
       "      <td>1</td>\n",
       "      <td>76.7292</td>\n",
       "      <td>3</td>\n",
       "    </tr>\n",
       "    <tr>\n",
       "      <th>64</th>\n",
       "      <td>1</td>\n",
       "      <td>1</td>\n",
       "      <td>28.0</td>\n",
       "      <td>0</td>\n",
       "      <td>27.7208</td>\n",
       "      <td>6</td>\n",
       "    </tr>\n",
       "    <tr>\n",
       "      <th>1118</th>\n",
       "      <td>3</td>\n",
       "      <td>0</td>\n",
       "      <td>28.0</td>\n",
       "      <td>0</td>\n",
       "      <td>7.7500</td>\n",
       "      <td>6</td>\n",
       "    </tr>\n",
       "    <tr>\n",
       "      <th>...</th>\n",
       "      <td>...</td>\n",
       "      <td>...</td>\n",
       "      <td>...</td>\n",
       "      <td>...</td>\n",
       "      <td>...</td>\n",
       "      <td>...</td>\n",
       "    </tr>\n",
       "    <tr>\n",
       "      <th>159</th>\n",
       "      <td>3</td>\n",
       "      <td>1</td>\n",
       "      <td>28.0</td>\n",
       "      <td>8</td>\n",
       "      <td>69.5500</td>\n",
       "      <td>6</td>\n",
       "    </tr>\n",
       "    <tr>\n",
       "      <th>502</th>\n",
       "      <td>3</td>\n",
       "      <td>0</td>\n",
       "      <td>28.0</td>\n",
       "      <td>0</td>\n",
       "      <td>7.6292</td>\n",
       "      <td>6</td>\n",
       "    </tr>\n",
       "    <tr>\n",
       "      <th>412</th>\n",
       "      <td>1</td>\n",
       "      <td>0</td>\n",
       "      <td>33.0</td>\n",
       "      <td>1</td>\n",
       "      <td>90.0000</td>\n",
       "      <td>2</td>\n",
       "    </tr>\n",
       "    <tr>\n",
       "      <th>246</th>\n",
       "      <td>3</td>\n",
       "      <td>0</td>\n",
       "      <td>25.0</td>\n",
       "      <td>0</td>\n",
       "      <td>7.7750</td>\n",
       "      <td>6</td>\n",
       "    </tr>\n",
       "    <tr>\n",
       "      <th>719</th>\n",
       "      <td>3</td>\n",
       "      <td>1</td>\n",
       "      <td>33.0</td>\n",
       "      <td>0</td>\n",
       "      <td>7.7750</td>\n",
       "      <td>6</td>\n",
       "    </tr>\n",
       "  </tbody>\n",
       "</table>\n",
       "<p>252 rows × 6 columns</p>\n",
       "</div>"
      ],
      "text/plain": [
       "      Pclass  Sex   Age  SibSp     Fare  Cabin_Deck\n",
       "450        2    1  36.0      1  27.7500           6\n",
       "103        3    1  33.0      0   8.6542           6\n",
       "52         1    0  49.0      1  76.7292           3\n",
       "64         1    1  28.0      0  27.7208           6\n",
       "1118       3    0  28.0      0   7.7500           6\n",
       "...      ...  ...   ...    ...      ...         ...\n",
       "159        3    1  28.0      8  69.5500           6\n",
       "502        3    0  28.0      0   7.6292           6\n",
       "412        1    0  33.0      1  90.0000           2\n",
       "246        3    0  25.0      0   7.7750           6\n",
       "719        3    1  33.0      0   7.7750           6\n",
       "\n",
       "[252 rows x 6 columns]"
      ]
     },
     "execution_count": 14,
     "metadata": {},
     "output_type": "execute_result"
    }
   ],
   "source": [
    "X_test"
   ]
  },
  {
   "cell_type": "markdown",
   "id": "c565c210",
   "metadata": {
    "papermill": {
     "duration": 0.016644,
     "end_time": "2023-08-03T06:38:59.375332",
     "exception": false,
     "start_time": "2023-08-03T06:38:59.358688",
     "status": "completed"
    },
    "tags": []
   },
   "source": [
    "Now we will Scale down all the features that varies from 0 to X limit, to the mean of 0 and standard deviation of 1, for better prediction, using the StandardScaler function "
   ]
  },
  {
   "cell_type": "code",
   "execution_count": 15,
   "id": "b9eba128",
   "metadata": {
    "execution": {
     "iopub.execute_input": "2023-08-03T06:38:59.412507Z",
     "iopub.status.busy": "2023-08-03T06:38:59.411888Z",
     "iopub.status.idle": "2023-08-03T06:38:59.523315Z",
     "shell.execute_reply": "2023-08-03T06:38:59.521860Z"
    },
    "papermill": {
     "duration": 0.134075,
     "end_time": "2023-08-03T06:38:59.526605",
     "exception": false,
     "start_time": "2023-08-03T06:38:59.392530",
     "status": "completed"
    },
    "tags": []
   },
   "outputs": [],
   "source": [
    "from sklearn.preprocessing import StandardScaler\n",
    "from sklearn.linear_model import LogisticRegression\n",
    "from sklearn.metrics import accuracy_score\n",
    "# Scale features\n",
    "scaler = StandardScaler()\n",
    "X_train= scaler.fit_transform(X_train)\n",
    "X_test = scaler.transform(X_test)"
   ]
  },
  {
   "cell_type": "code",
   "execution_count": 16,
   "id": "ff548ee6",
   "metadata": {
    "execution": {
     "iopub.execute_input": "2023-08-03T06:38:59.563317Z",
     "iopub.status.busy": "2023-08-03T06:38:59.562908Z",
     "iopub.status.idle": "2023-08-03T06:38:59.571362Z",
     "shell.execute_reply": "2023-08-03T06:38:59.570059Z"
    },
    "papermill": {
     "duration": 0.03022,
     "end_time": "2023-08-03T06:38:59.573926",
     "exception": false,
     "start_time": "2023-08-03T06:38:59.543706",
     "status": "completed"
    },
    "tags": []
   },
   "outputs": [
    {
     "data": {
      "text/plain": [
       "array([[-0.46027511,  0.70236281,  0.5359022 ,  0.50491637,  0.14676666,\n",
       "         0.44637855],\n",
       "       [ 0.79331969,  0.70236281,  0.30201013, -0.48424728, -0.60635546,\n",
       "         0.44637855],\n",
       "       [-1.7138699 , -1.42376558,  1.54943449,  0.50491637,  2.07846468,\n",
       "        -1.50693251],\n",
       "       ...,\n",
       "       [-1.7138699 , -1.42376558,  0.30201013,  0.50491637,  2.60185375,\n",
       "        -2.1580362 ],\n",
       "       [ 0.79331969, -1.42376558, -0.32170206, -0.48424728, -0.64103036,\n",
       "         0.44637855],\n",
       "       [ 0.79331969,  0.70236281,  0.30201013, -0.48424728, -0.64103036,\n",
       "         0.44637855]])"
      ]
     },
     "execution_count": 16,
     "metadata": {},
     "output_type": "execute_result"
    }
   ],
   "source": [
    "X_test"
   ]
  },
  {
   "cell_type": "markdown",
   "id": "1f86476c",
   "metadata": {
    "papermill": {
     "duration": 0.017438,
     "end_time": "2023-08-03T06:38:59.608627",
     "exception": false,
     "start_time": "2023-08-03T06:38:59.591189",
     "status": "completed"
    },
    "tags": []
   },
   "source": [
    "### Let us now Build the Logistics Regression Model, fit data, and print the Metric Scores "
   ]
  },
  {
   "cell_type": "code",
   "execution_count": 17,
   "id": "b68e61cb",
   "metadata": {
    "execution": {
     "iopub.execute_input": "2023-08-03T06:38:59.646208Z",
     "iopub.status.busy": "2023-08-03T06:38:59.644999Z",
     "iopub.status.idle": "2023-08-03T06:38:59.675091Z",
     "shell.execute_reply": "2023-08-03T06:38:59.673399Z"
    },
    "papermill": {
     "duration": 0.051668,
     "end_time": "2023-08-03T06:38:59.677794",
     "exception": false,
     "start_time": "2023-08-03T06:38:59.626126",
     "status": "completed"
    },
    "tags": []
   },
   "outputs": [
    {
     "name": "stdout",
     "output_type": "stream",
     "text": [
      "Accuracy:  0.7619047619047619\n",
      "Confusion Matrix \n",
      "[[117  32]\n",
      " [ 28  75]]\n",
      "Classification Report: \n",
      "              precision    recall  f1-score   support\n",
      "\n",
      "           0       0.81      0.79      0.80       149\n",
      "           1       0.70      0.73      0.71       103\n",
      "\n",
      "    accuracy                           0.76       252\n",
      "   macro avg       0.75      0.76      0.76       252\n",
      "weighted avg       0.76      0.76      0.76       252\n",
      "\n"
     ]
    }
   ],
   "source": [
    "from sklearn.linear_model import LogisticRegression\n",
    "from sklearn.metrics import accuracy_score, classification_report, confusion_matrix\n",
    "\n",
    "\n",
    "model = LogisticRegression(random_state =3)\n",
    "\n",
    "model.fit(X_train,y_train)\n",
    "\n",
    "y_pred = model.predict(X_test)\n",
    "\n",
    "accuracy = accuracy_score(y_pred, y_test)\n",
    "conf_matrix = confusion_matrix(y_pred,y_test)\n",
    "class_report = classification_report(y_pred,y_test)\n",
    "\n",
    "print(\"Accuracy: \",accuracy)\n",
    "print(\"Confusion Matrix \")\n",
    "print(conf_matrix)\n",
    "print(\"Classification Report: \")\n",
    "print(class_report)"
   ]
  },
  {
   "cell_type": "markdown",
   "id": "4155ebff",
   "metadata": {
    "papermill": {
     "duration": 0.017989,
     "end_time": "2023-08-03T06:38:59.713747",
     "exception": false,
     "start_time": "2023-08-03T06:38:59.695758",
     "status": "completed"
    },
    "tags": []
   },
   "source": [
    "### Hence we have got the accuracy of the Prediction at 76%, with F1 Score at 0.80 for Not-Survived and 0.72 for Survived Prediction."
   ]
  }
 ],
 "metadata": {
  "kernelspec": {
   "display_name": "Python 3",
   "language": "python",
   "name": "python3"
  },
  "language_info": {
   "codemirror_mode": {
    "name": "ipython",
    "version": 3
   },
   "file_extension": ".py",
   "mimetype": "text/x-python",
   "name": "python",
   "nbconvert_exporter": "python",
   "pygments_lexer": "ipython3",
   "version": "3.10.12"
  },
  "papermill": {
   "default_parameters": {},
   "duration": 19.289793,
   "end_time": "2023-08-03T06:39:00.757465",
   "environment_variables": {},
   "exception": null,
   "input_path": "__notebook__.ipynb",
   "output_path": "__notebook__.ipynb",
   "parameters": {},
   "start_time": "2023-08-03T06:38:41.467672",
   "version": "2.4.0"
  }
 },
 "nbformat": 4,
 "nbformat_minor": 5
}
