{
  "nbformat": 4,
  "nbformat_minor": 0,
  "metadata": {
    "colab": {
      "provenance": [],
      "authorship_tag": "ABX9TyNdE4x4z5pCluPb4Zs9CCGj",
      "include_colab_link": true
    },
    "kernelspec": {
      "name": "python3",
      "display_name": "Python 3"
    },
    "language_info": {
      "name": "python"
    }
  },
  "cells": [
    {
      "cell_type": "markdown",
      "metadata": {
        "id": "view-in-github",
        "colab_type": "text"
      },
      "source": [
        "<a href=\"https://colab.research.google.com/github/Andy7204/ML-Model-Implementation/blob/main/DecisionTree_Model.ipynb\" target=\"_parent\"><img src=\"https://colab.research.google.com/assets/colab-badge.svg\" alt=\"Open In Colab\"/></a>"
      ]
    },
    {
      "cell_type": "code",
      "execution_count": null,
      "metadata": {
        "colab": {
          "base_uri": "https://localhost:8080/"
        },
        "id": "0wz92YX56q1m",
        "outputId": "daebbbc0-6df8-43a2-8dcc-ea301d87bc54"
      },
      "outputs": [
        {
          "output_type": "stream",
          "name": "stderr",
          "text": [
            "<ipython-input-18-3bef5ed47efb>:8: FutureWarning: Passing a set as an indexer is deprecated and will raise in a future version. Use a list instead.\n",
            "  X = our_data[feature_columns]\n",
            "<ipython-input-18-3bef5ed47efb>:9: FutureWarning: Passing a set as an indexer is deprecated and will raise in a future version. Use a list instead.\n",
            "  val_X = val_data[feature_columns]\n"
          ]
        },
        {
          "output_type": "stream",
          "name": "stdout",
          "text": [
            "326000.0\n",
            "109500.0\n",
            "340600.0\n",
            "205400.0\n",
            "105700.0\n",
            "\n",
            "val mae  67927.11033333333\n",
            "\n",
            "New mae  {350: 53971.63702441619, 351: 54001.12432965005, 352: 53942.9307753906, 353: 53947.90930504809, 354: 53965.114743644575, 355: 53965.114743644575, 356: 53973.08453812064, 357: 53986.94858318427, 358: 53901.07342645913, 359: 53896.37979009551, 360: 53871.178930238566, 361: 53866.49334143545, 362: 53838.086696136306, 363: 53814.2524501497, 364: 53792.40569795672, 365: 53785.269031396725, 366: 53801.68708695229, 367: 53795.24705869076, 368: 53794.753280912984, 369: 53800.51715037686, 370: 53778.72548371019, 371: 53704.10561038154, 372: 53732.16127704821, 373: 53729.342494434626, 374: 53832.16452406757, 375: 53776.05243104431, 376: 53801.90576437765, 377: 53812.96096003656, 378: 53824.6543744236, 379: 53824.6543744236, 380: 53779.02274479396, 381: 53769.892669895926, 382: 53759.7161641488, 383: 53726.46501831501, 384: 53691.83636878121, 385: 53691.723007670094, 386: 53730.91833468159, 387: 53702.812357790826, 388: 53686.5482037292, 389: 53709.74487039587, 390: 53730.564803729205, 391: 53749.2162037292, 392: 53763.57599356556, 393: 53811.86492110179, 394: 53851.514921101785, 395: 53892.00748102375, 396: 53943.618592134866, 397: 53900.59295110922, 398: 53870.09604607599, 399: 53903.9883401551}\n",
            "Best tree size  388\n",
            "Final Mae  29169.0713106472\n"
          ]
        }
      ],
      "source": [
        "import pandas as pd\n",
        "from sklearn.tree import DecisionTreeRegressor\n",
        "from sklearn.metrics import mean_absolute_error\n",
        "\n",
        "cali_file_path = '/content/sample_data/california_housing_train.csv'\n",
        "our_data =pd.read_csv(cali_file_path)\n",
        "val_data = pd.read_csv('/content/sample_data/california_housing_test.csv')\n",
        "feature_columns = {'housing_median_age','total_rooms','total_bedrooms', 'population','median_income'}\n",
        "X = our_data[feature_columns]\n",
        "val_X = val_data[feature_columns]\n",
        "y = our_data.median_house_value\n",
        "val_y = val_data.median_house_value\n",
        "\n",
        "model = DecisionTreeRegressor(random_state=1)\n",
        "model.fit(X,y)\n",
        "val_predictions = model.predict(val_X)\n",
        "val_mae = mean_absolute_error(val_y, val_predictions)\n",
        "for i in range(5): print(val_predictions[i])\n",
        "#print(\"val y head\" ,val_y.head)\n",
        "print()\n",
        "print(\"val mae \" ,val_mae)\n",
        "print()\n",
        "\n",
        "def get_mae(max_leaf_nodes, train_X, val_X, train_y, val_y):\n",
        "  new_model = DecisionTreeRegressor(max_leaf_nodes = max_leaf_nodes, random_state=0)\n",
        "  new_model.fit(train_X,train_y)\n",
        "  preds_val = new_model.predict(val_X)\n",
        "  mae = mean_absolute_error(val_y, preds_val)\n",
        "  return(mae)\n",
        "\n",
        "#house_max_leaf_nodes = [2,5,10,15,20,100,250,300, 360,390,410,420,430,400,500,1000,1500,2000,3000]\n",
        "new_mae = {leaf_size: get_mae(leaf_size, X, val_X, y, val_y) for leaf_size in range(350, 400)}\n",
        "\n",
        "best_tree_size = min(new_mae, key = new_mae.get)\n",
        "print(\"New mae \", new_mae)\n",
        "print(\"Best tree size \",best_tree_size)\n",
        "\n",
        "final_model = DecisionTreeRegressor(max_leaf_nodes = best_tree_size, random_state=0)\n",
        "final_model.fit(val_X, val_y)\n",
        "val_pred_new = final_model.predict(val_X)\n",
        "final_mae = mean_absolute_error(val_y, val_pred_new)\n",
        "print(\"Final Mae \", final_mae)\n"
      ]
    }
  ]
}